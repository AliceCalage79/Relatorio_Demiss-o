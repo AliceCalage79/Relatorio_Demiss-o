{
  "nbformat": 4,
  "nbformat_minor": 0,
  "metadata": {
    "colab": {
      "provenance": [],
      "collapsed_sections": [
        "z6A7BE1dZntw",
        "CLytAALsqOYO",
        "mlzngvjCqaI1",
        "fywR9csKsEbW",
        "dWUp2r23_6tN",
        "Ee57pU9QIKGx",
        "gdnlQZy-IVcQ",
        "-OAGnnRUKZj8",
        "MT9YgFBvTNzb",
        "OZGq7ZVLgDel",
        "cNTXyN8Vljue",
        "WFah8EoSrtzv",
        "xzX-fiyy3uqI",
        "93Wpyupc4SqX"
      ],
      "authorship_tag": "ABX9TyMDOEdnuNSahFZkEaX8xhU1",
      "include_colab_link": true
    },
    "kernelspec": {
      "name": "python3",
      "display_name": "Python 3"
    },
    "language_info": {
      "name": "python"
    }
  },
  "cells": [
    {
      "cell_type": "markdown",
      "metadata": {
        "id": "view-in-github",
        "colab_type": "text"
      },
      "source": [
        "<a href=\"https://colab.research.google.com/github/AliceCalage79/Relatorio_Demiss-o/blob/main/relatorio_demissao.ipynb\" target=\"_parent\"><img src=\"https://colab.research.google.com/assets/colab-badge.svg\" alt=\"Open In Colab\"/></a>"
      ]
    },
    {
      "cell_type": "markdown",
      "source": [
        "#  <font color = blue >> Relatório de Demissões"
      ],
      "metadata": {
        "id": "SkIjyixi_deZ"
      }
    },
    {
      "cell_type": "markdown",
      "source": [
        "##<font color = blue >>> Introdução:"
      ],
      "metadata": {
        "id": "_0O2ILC1GYOJ"
      }
    },
    {
      "cell_type": "markdown",
      "source": [
        "\n",
        "A alta taxa de demissões de funcionários é uma preocupação crítica para qualquer organização, pois pode afetar adversamente a continuidade operacional e o crescimento sustentável. A Organização de Marketing tem enfrentado desafios significativos em relação à retenção de talentos, e este relatório tem como objetivo fornecer uma análise abrangente das razões para a saída dos funcionários e seus impactos. A colaboração entre o Departamento de Recursos Humanos e a equipe de Análise de Dados desempenha um papel fundamental neste processo. Por meio do uso da plataforma Tableau, esta análise visa oferecer insights claros e soluções potenciais para abordar a saída de funcionários na organização.\n",
        "\n",
        " > - Taxa de Atributo Atual: inicialmente, identificamos uma alta taxa de saída de funcionários na Organização de Marketing, o que impacta a continuidade operacional e a eficácia da equipe.\n",
        "\n",
        "> - Razões Principais para a Saída: Uma análise revelou que várias razões estão contribuindo significativamente para as demissões, incluindo falta de reconhecimento, oportunidades de progressão de carreira insatisfatórias e carga horária excessiva.\n",
        "\n",
        "> - Impactos: O relatório avalia o impacto dessas razões na organização, como custos de recrutamento e treinamento, queda na moral da equipe e redução da produtividade."
      ],
      "metadata": {
        "id": "UFK632iVB3eJ"
      }
    },
    {
      "cell_type": "markdown",
      "source": [
        "## <font color=blue> >> Entendendo os Dados"
      ],
      "metadata": {
        "id": "YgHdw-U6HOCi"
      }
    },
    {
      "cell_type": "markdown",
      "source": [
        "Recebemos do nosso parceiro HRBP sua analise dos dados via e-mail com a seguinte visualização:"
      ],
      "metadata": {
        "id": "FUPESaJSHhJv"
      }
    },
    {
      "cell_type": "markdown",
      "source": [
        " ![Grafico_HRBP](https://i.imgur.com/dGfLbOy.png)"
      ],
      "metadata": {
        "id": "O1z48x2SIdhf"
      }
    },
    {
      "cell_type": "markdown",
      "source": [
        "Nestes gráficos, cada bolha representa uma razão específica para a saída de funcionários na Organização de Marketing:\n",
        "> **Gráfico HR Business Partner Input**\n",
        "> - Posição Vertical (Eixo Y - \"HRBP\"): A posição vertical das bolhas indica como cada razão é avaliada em termos de seu impacto na função do Parceiro de Negócios de Recursos Humanos (HRBP). Em outras palavras, quanto mais à cima uma bolha estiver, maior é o impacto percebido dessa razão no trabalho do HRBP.\n",
        "> - Posição Horizontal (Eixo X - \"HRBP\"): A posição horizontal das bolhas no gráfico representa a frequência com que cada razão foi abordada no relatório(HRBP). Ou seja, quanto mais a direita uma bolha estiver, mais frequentemente essa razão é mencionada como motivo para a saída dos funcionários.\n",
        "\n",
        ">  **Conclusões:**\n",
        "> - Através dessa visualização conseguimos concluir que a razão mais frequente como causadora de demissões é \"progressão de carreira\" com 137 registros, seguida por \"tipo de trabalho\" com 128 registros.\n",
        "> -  Concluimos também que a razão de maior capacidade de impacto  é o \"Treinamento\", seguida por \"Conflito com Outros\".\n",
        "> - Dessa forma podemos perceber que a razão que possui maior frequência não é a que causa mais impacto."
      ],
      "metadata": {
        "id": "kkJQGUI8OicV"
      }
    },
    {
      "cell_type": "markdown",
      "source": [
        "> Gráfico Exit Survey\n",
        "> - Posição Vertical (Eixo Y - \"Exit Survey\"): A posição vertical das bolhas indica como cada razão é avaliada em termos de seu impacto. Em outras palavras, quanto mais à cima uma bolha estiver, maior é o impacto percebido dessa razão no trabalho.\n",
        "> - Posição Horizontal (Eixo X - \"Exit Survey\"): A posição horizontal das bolhas no gráfico representa a frequência com que cada razão foi abordada em pesquisas de saída (exit surveys). Ou seja, quanto mais a direira uma bolha estiver, mais frequentemente essa razão é mencionada como motivo para a saída dos funcionários."
      ],
      "metadata": {
        "id": "fSNRi48bQ4uW"
      }
    },
    {
      "cell_type": "markdown",
      "source": [
        ">  **Conclusões:**\n",
        "> - Através dessa visualização conseguimos concluir que a razão mais frequente como causadora de demissões é \"progressão de carreira\" com 171 registros, seguida por \"tipo de trabalho\" com 78 registros.\n",
        "> -  Concluimos também que a razão de maior capacidade de impacto  é o \"Treinamento\", seguida por \"Conflito com Outros\".\n",
        "> - Dessa forma podemos perceber que a razão que possui maior frequência não é a que causa mais impacto.\n",
        "\n"
      ],
      "metadata": {
        "id": "Advaik0sV3qP"
      }
    },
    {
      "cell_type": "markdown",
      "source": [
        "**> Suposições:**\n",
        "> - Também concluimos que os números entre os dois gráficos diferem em seus valores, ou seja existe uma diferença numérica entre os dados do HRBP e a pesquisa feita na saída dos funcionários.\n",
        "> - Pressupõe-se que os funcinários não relataram na pesquisa o real motivo da saída, haja vista que os registros diferem do relatório do parceiro(HRBP).\n",
        "> - Eventualmente o fato de ser uma pesquisa tenha deixado os funcionários mais a vontade para responder, levando em consideração o fato que a causa com maior frequência em ambos relatórios é a falta de \"progressão de carreira\",  o gráfico nos mostra que na pesquisa, esse indicador tem um numero de registros bem acima do relatóro HRBP.\n",
        "> - Outro fator relevante entre os gráficos é que o total de registros não são iguais, exitem mais registros no trabalho do parceiro HRBP (565) do que no relatório da pesquisa com  504 registros, ou seja, muitos funcionários podem não ter participado do relatório de  pesquisa."
      ],
      "metadata": {
        "id": "4K6vpkVHXTeB"
      }
    },
    {
      "cell_type": "markdown",
      "source": [
        "## <font color=blue> >>Sugestões de Melhorias"
      ],
      "metadata": {
        "id": "z6A7BE1dZntw"
      }
    },
    {
      "cell_type": "markdown",
      "source": [
        "### Feedback\n",
        "> Os gráficos de bolhas são uma forma eficaz de visualizar a relação entre multiplas variações em um único gráfico. No entanto, acredito que para essa visualização específica, devido ao alto numero de indicadores e a relação entre frequência e capacidade de impacto não estar clara e retratada. O gráfico não seria o mais adequado, ja que obtivemos dificuldade na interpretação dos dados e algumas distorções na analise, o que originou uma demanda de tempo maior, para analise. Logo abaixo algumas orientações de melhorias:\n",
        "\n",
        "> - Complexidade: Gráficos de bolhas têm uma ampla gama. Isso pode dificultar a interpretação, especialmente para aqueles que não estão familiarizados com esse tipo de gráfico.\n",
        "\n",
        "> - Espaço limitado: Em uma área como uma apresentação de slides ou um relatório com limites restritos, gráficos de bolhas podem ocupar muito espaço horizontal e vertical, tornando-os difíceis de ler e analisar.\n",
        "\n",
        "> - Comparação Precisa: Para realizar comparações precisas entre bolhas, é necessário que as escalas nos eixos X e Y sejam especificadas. Se não for assim, as comparações podem ser distorcidas, levando a interpretações errôneas.\n",
        "\n",
        "> - Interpretação: A interpretação de gráficos de bolhas pode não ser intuitiva para todos. As pessoas não entendem imediatamente o significado das posições no gráfico e o tamanho relativo às bolhas.\n",
        "\n",
        "> - Objetivos da Comunicação: Se o objetivo da análise é para destacar um ou dois fatores específicos como os mais críticos, um gráfico de barras ou um gráfico de pizza pode ser mais eficaz na comunicação dessa mensagem de forma direta.\n",
        "\n",
        "Portanto, a decisão de usar ou não um gráfico de bolhas depende do contexto e dos objetivos da análise. Se a simplicidade e a clareza são suas prioridades, é possível que outros tipos de gráficos sejam mais seguros para transmitir as descobertas de forma mais eficaz.\n",
        "\n",
        "\n",
        "\n",
        "\n",
        "\n"
      ],
      "metadata": {
        "id": "4MNeWlbJbAwB"
      }
    },
    {
      "cell_type": "markdown",
      "source": [
        "## <font color=blue>>> Dados no Tableau"
      ],
      "metadata": {
        "id": "L871oRHxf36g"
      }
    },
    {
      "cell_type": "markdown",
      "source": [
        "Nessa etapa do projeto vamos importar os dados a serem trabalhados atraves do\n",
        "Link [Dados_(HRBP)](https://docs.google.com/spreadsheets/d/16pyFQ9Bb1moX9I7kbj6Q3Vx9wkeOK7CB/edit#gid=437389207)\n",
        "> - Os dados estão no formato .xlsx;\n",
        ">- Nossa ferramenta de trabalho será o Tableau Public, onde realizaremos o tratamento dos dados, por meio de visualização e análise, através de gráficos;"
      ],
      "metadata": {
        "id": "_OG53WdTh90Z"
      }
    },
    {
      "cell_type": "markdown",
      "source": [
        "###<font color=blue>>>> Tabela com Dados"
      ],
      "metadata": {
        "id": "CLytAALsqOYO"
      }
    },
    {
      "cell_type": "markdown",
      "source": [
        ">-  Importando o link obtivemos essa tabela abaixo:\n",
        "\n",
        "![Imgur](https://i.imgur.com/yZqspOk.png)"
      ],
      "metadata": {
        "id": "RRQltM-ElgX5"
      }
    },
    {
      "cell_type": "markdown",
      "source": [
        "###<font color =blue>>>> Tabela no Tableau"
      ],
      "metadata": {
        "id": "mlzngvjCqaI1"
      }
    },
    {
      "cell_type": "markdown",
      "source": [
        "\n",
        "\n",
        ">  Dados importados no Tableau:\n",
        "> - Primeira visualização abaixo;\n",
        "\n",
        "![Imgur](https://i.imgur.com/4IhJGdy.png)\n",
        "\n",
        "> - Temos 13 linhas e 4 colunas;\n",
        ">- Uma linha desnecessária com dados nulos;\n",
        ">- Colunas não nomeadas adequadamente;\n",
        ">- Dados em ordem decresente por capacidade de impacto (classificados de 1 a 11);\n"
      ],
      "metadata": {
        "id": "-5LsTJ_1lUiW"
      }
    },
    {
      "cell_type": "markdown",
      "source": [
        "###<font color=blue>>>> Tabela Tratada no Tableau"
      ],
      "metadata": {
        "id": "fywR9csKsEbW"
      }
    },
    {
      "cell_type": "markdown",
      "source": [
        ">- Usamos o interpretador de dados para limpar a tabela, ferramenta do Tableau:\n",
        "  - excluída a linha desnecessária;\n",
        "  - retirados os valores nulos da mesma;\n",
        "> - Renomeamos os nomes das coluna para um maior entendimento\n",
        ">- Atraves da opção (Aliases) colocamos apelidos em todas as razões de saída, para uma melhor visualização;\n",
        ">- Logo abaixo está a tabela atualizada e limpa:\n",
        "\n",
        "![Imgur](https://i.imgur.com/svDzh9R.png)"
      ],
      "metadata": {
        "id": "M2IntO-esPLu"
      }
    },
    {
      "cell_type": "markdown",
      "source": [
        ">- tabela com 11 linhas e 4 colunas."
      ],
      "metadata": {
        "id": "_KGGBAOj1x-2"
      }
    },
    {
      "cell_type": "markdown",
      "source": [
        "###<font color=blue>>>> Exemplos de Gráficos:"
      ],
      "metadata": {
        "id": "dWUp2r23_6tN"
      }
    },
    {
      "cell_type": "markdown",
      "source": [
        "> - Logo abaixo estão alguns exemplos de gráficos que foram gerados com os dados obtidos e uma analise sobre as visualizações."
      ],
      "metadata": {
        "id": "IrfHE9vE2bWx"
      }
    },
    {
      "cell_type": "markdown",
      "source": [
        "####>>>> Exemplo I"
      ],
      "metadata": {
        "id": "Ee57pU9QIKGx"
      }
    },
    {
      "cell_type": "markdown",
      "source": [
        "Nesse gráfico observamos a frequencia absoluta de cada motivo nas barras e uma linha de capacidade de impacto que nos mostra uma classificação de 1 a 11, esse relatório diz respeito a uma pesquisa feita anonimamente com funcionarios que sairam da empresa.\n",
        ">- Percebe-se que o motivo com frequência mais alta, não possui a capacidade de impacto maior.\n",
        ">- Não sabe-se como a empresa chegou nessa classificação de impacto, mas observou-se que o impacto mais consideravel é o \"treinamento\"."
      ],
      "metadata": {
        "id": "Il2JjXBPCKro"
      }
    },
    {
      "cell_type": "markdown",
      "source": [
        "![Imgur](https://i.imgur.com/jQS061P.png)"
      ],
      "metadata": {
        "id": "wfqv1695BEeZ"
      }
    },
    {
      "cell_type": "markdown",
      "source": [
        "O gráfico abaixo nos revela a pesquisa feita pelo parceiro HRBP\n",
        ">- Observa-se ainda que o motivo assinalado com mais frequência, tambem não é o de maior impacto\n",
        ">- A maior frequencia assinalada é \"progressão de carreira\"."
      ],
      "metadata": {
        "id": "7AXVcN8REaIV"
      }
    },
    {
      "cell_type": "markdown",
      "source": [
        "![Imgur](https://i.imgur.com/bVm3roX.png)"
      ],
      "metadata": {
        "id": "sNmrTZsWEOEU"
      }
    },
    {
      "cell_type": "markdown",
      "source": [
        ">- Dispomos de dois gráficos com boa vizualização, cores adequadas, as legendas estão um pouco confusas, quando mostra os números, dificultando o  entendimento."
      ],
      "metadata": {
        "id": "DmHngfe7CIWu"
      }
    },
    {
      "cell_type": "markdown",
      "source": [
        "####>>>> Exemplo II"
      ],
      "metadata": {
        "id": "gdnlQZy-IVcQ"
      }
    },
    {
      "cell_type": "markdown",
      "source": [
        ">- Gráfico completo com ambos relatórios em barras agrupados por nível de capacidade, foram clusterizados no próprio Tableau\n",
        ">- Nos mostram o  percentual de frequência de causas de demissão, identificados nas barras;\n",
        ">- O nível de capacidade de impacto pode ser observado nas cores da legenda.\n",
        ">- A clusterização indica que os níveis de impacto estão divididos em três grupos e identificados por cores conforme sua intensidade:\n",
        "   - Vermelho : nível alto de classificação;\n",
        "   - Laranja : nível médio de classificação;\n",
        "   - Cinza : nível baixo de classificação."
      ],
      "metadata": {
        "id": "9W5azIJ-Ifjg"
      }
    },
    {
      "cell_type": "markdown",
      "source": [
        "![Imgur](https://i.imgur.com/I5NIO7d.png)"
      ],
      "metadata": {
        "id": "MEUuXrmkEMDV"
      }
    },
    {
      "cell_type": "markdown",
      "source": [
        ">- Gráfico com boa visualização;\n",
        ">- Faltou identificação especificada;\n",
        ">- Gerou uma dificuldade de entendimento."
      ],
      "metadata": {
        "id": "YaD4GAOrw8LY"
      }
    },
    {
      "cell_type": "markdown",
      "source": [
        "####>>>> Exemplo III"
      ],
      "metadata": {
        "id": "-OAGnnRUKZj8"
      }
    },
    {
      "cell_type": "markdown",
      "source": [
        ">- Esse gráfico nos mostra ambas pesquisas lado a lado em barras, e a capacidade de impacto sinalizada com o círculo vermellho, mostrando qual o motivo tem a capacidade de impacto mais alta.\n",
        ">- As barras sinalizam a frequência absoluta dos motivos, nas duas pesquisas e mostram a diferença nos números de cada uma."
      ],
      "metadata": {
        "id": "eVEYoRGJKjAE"
      }
    },
    {
      "cell_type": "markdown",
      "source": [
        "![Imgur](https://i.imgur.com/eUAej9p.png)"
      ],
      "metadata": {
        "id": "yEZuVtXtJxRW"
      }
    },
    {
      "cell_type": "markdown",
      "source": [
        ">- Observa-se muita informação, dificultando a visualização;\n",
        ">- Dificuldado no entendimento do grau de impacto, mostrados nos círculos vermelhos."
      ],
      "metadata": {
        "id": "SS47FG4jzikE"
      }
    },
    {
      "cell_type": "markdown",
      "source": [
        "####>>>> Exemplo IV"
      ],
      "metadata": {
        "id": "MT9YgFBvTNzb"
      }
    },
    {
      "cell_type": "markdown",
      "source": [
        ">- Aqui temos um gráfico agrupado por número de frequência e nivel de impacto.\n",
        ">- Dispomos de  três grupos de nível de frequência e três grupos de nível de impacto, onde os motivos foram classificadas de acordo com seus nùmeros de registros.\n",
        "\n",
        ">- Agrupamento por frequência:\n",
        "     - Classificação dos motivos: Os motivos de saída mais citados foram apresentados no grupo de \"Alto\" nível de frequência. Os motivos de saída menos frequentes, mas ainda relevantes, foram apresentados no grupo de \"Médio\" nível de frequência. E os motivos de saída menos sinalizados foram colocados no grupo de \"Baixo\" nível de frequência.\n",
        ">- Grupos por nível de Impacto:\n",
        "     - Dentro dos grupos de frequência os motivos foram distribuidos em níveis de capacidade de impacto, que se caracterizam por cores."
      ],
      "metadata": {
        "id": "Ry0FH8oNTXCj"
      }
    },
    {
      "cell_type": "markdown",
      "source": [
        "![Imgur](https://i.imgur.com/QrCr3GX.png)"
      ],
      "metadata": {
        "id": "2zCvA4vbLdh9"
      }
    },
    {
      "cell_type": "markdown",
      "source": [
        ">- Gráfico com visualização confusa a primeira vista;\n",
        ">- Necessita de identificação mais clara.\n",
        ">- Díficil de explicar o seu funcionamento."
      ],
      "metadata": {
        "id": "faS17c8A4dMf"
      }
    },
    {
      "cell_type": "markdown",
      "source": [
        "###<font color=blue>>>> Storytelling"
      ],
      "metadata": {
        "id": "FxIBIgGlUY7b"
      }
    },
    {
      "cell_type": "markdown",
      "source": [
        "Após a solicitação por parte do CMO (Chief Marketing Officer). Foi realizado um estudo detalhado buscando, primeiramente, os dados que pudessem sustentar qualquer hipótese feita pela nossa equipe. Nessa busca, recebemos uma planilha com duas pesquisas: uma realizada pelo parceiro de Recursos Humanos e outra realizada na saída do funcionário da empresa.\n",
        ">- Uma alta taxa de pedidos de demissão em uma empresa pode ser um sinal de preocupação para a liderança e os departamentos de Recursos Humanos. Quando os funcionários estão optando por deixar a organização em um ritmo acelerado e a empresa não tem uma compreensão clara das razões por trás dessas saídas, isso cria um desafio significativo para a retenção de talentos e a gestão eficaz da força de trabalho.\n",
        "\n",
        "> - A análise de dados desempenha um papel fundamental na abordagem desse problema. Ao coletar, examinar e interpretar informações relevantes, podemos começar a desvendar as causas subjacentes dos pedidos de demissão. Essa análise não apenas ajuda a identificar os motivos específicos pelos quais os funcionários estão deixando a empresa, mas também fornece insights valiosos para a tomada de decisões estratégicas.\n",
        "\n"
      ],
      "metadata": {
        "id": "l2PTZJGYUj8x"
      }
    },
    {
      "cell_type": "markdown",
      "source": [
        "####>>>> Primeira Análise"
      ],
      "metadata": {
        "id": "OZGq7ZVLgDel"
      }
    },
    {
      "cell_type": "markdown",
      "source": [
        ">- Após receber os dados do nosso Parceiro de Negócios\n",
        "de Recursos Humanos (HRBP), limpamos e tratamos os registros usando nossa ferramenta de trabalho Tableau\n",
        "> - obtivemos nosso primeiro gráfico:\n",
        "\n",
        "> - ![Imgur](https://i.imgur.com/AT4GFJ5.png)"
      ],
      "metadata": {
        "id": "Dg8fHcw6ViYR"
      }
    },
    {
      "cell_type": "markdown",
      "source": [
        ">- Nossas primeiras impressões referentes ao gráfico:\n",
        "   - Tivemos um total de 1.069 registros;\n",
        "   - Desse total 565 foram respondidos para o relatório do nosso parceiro HRBP e 504 respondidos a pesquisa realizada após a saída;\n",
        ">- Hipóteses:\n",
        "   - Vimos que existe uma discrepância no número de registros entre os dois relatórios, não temos a certeza que quem respondeu o relatório HRBP também respondeu o relatório de pesquisa;\n",
        "   - Existem várias razões pelas quais um funcionário pode optar por não participar da pesquisa após a saída da empresa. Algumas dessas razões incluem:\n",
        "   - O ex-funcionário pode não estar ciente da pesquisa após a saída ou pode não ter recebido um convite para participar dela.\n",
        "   - Alguns ex-funcionários podem considerar a pesquisa de saída como uma tarefa de baixa prioridade em relação a outras responsabilidades e compromissos pessoais ou profissionais.\n",
        "\n",
        "É importante reconhecer que as respostas à pesquisa após a saída podem ser afetadas por esses fatores, o que pode resultar em lacunas nos dados e na compreensão das razões reais pelas quais os funcionários estão deixando a empresa.\n",
        "\n",
        ">- Insights:\n",
        "   - É de extrema importância qua a empresa certifique-se de que os ex-funcionários compreendam a importância do feedback deles para a melhoria contínua da empresa.\n",
        "   - Explique como as informações dos colaboradores podem ajudar a fazer mudanças positivas e a tornar a empresa um lugar melhor para trabalhar.\n",
        "   - Reforce que a pesquisa é anônima e que as respostas dos ex-funcionários não serão rastreadas. Isso pode ajudar a aliviar preocupações sobre retaliações.\n",
        "   - Considere a possibilidade de oferecer incentivos para a participação na pesquisa após a saída, como a chance de ganhar prêmios ou vouchers. Isso pode motivar mais ex-funcionários a participar.\n",
        "\n"
      ],
      "metadata": {
        "id": "ookmf3cKZO38"
      }
    },
    {
      "cell_type": "markdown",
      "source": [
        "####>>>> Segunda Análise"
      ],
      "metadata": {
        "id": "1neB0yVHgMq0"
      }
    },
    {
      "cell_type": "markdown",
      "source": [
        ">- Após a ver os totais dos relatórios, vamos identificar os números de ambos filtrados pela razão de saída e sua capacidade de impacto em um gráfico amplo:\n",
        "\n",
        ">-![Imgur](https://i.imgur.com/eUAej9p.png)"
      ],
      "metadata": {
        "id": "Hv5L470Wg6xT"
      }
    },
    {
      "cell_type": "markdown",
      "source": [
        ">- Nessa visualização percebemos que existe uma diferença bem consideravel entre as duas pesquisas, em cada motivo de saída existe uma discrepancia nos valores, podemos observar tambem a classificação da capacidade de impacto que é de 1 a 11.\n",
        ">- Hipóteses:\n",
        "  - Uma hipótese inicial é que duas pesquisas podem ter sido respondidas por grupos diferentes de funcionários. Por exemplo, a pesquisa HRBP pode ter sido direcionada apenas aos funcionários atuais, enquanto a pesquisa após a saída foi enviada apenas aos ex-funcionários. Isso explicaria as diferenças nos valores.\n",
        "  - Os ex-funcionários podem ter perspectivas diferentes sobre sua experiência na empresa após a saída. Por exemplo, ter passado algum tempo refletindo sobre sua saída e, posteriormente, poder avaliar sua experiência de forma diferente.\n",
        "  -  Pode haver uma viés de resposta, com ex-funcionários sendo mais propensos a fornecer respostas extremas ou parciais em relação aos funcionários atuais, devido à sua falta de vínculo atual com a empresa.\n",
        "\n",
        ">- Insights:\n",
        "   - Seria interessante que a empresa realize entrevistas qualitativas com um subconjunto de ex-funcionários para entender melhor suas perspectivas e motivações para sair da empresa. Essas entrevistas podem revelar insights profundos que não podem ser capturados apenas por meio de dados quantitativos.\n",
        "   -Realizar entrevistas qualitativas com ex-funcionários por meio de um canal de denúncias anônimas pode ser uma estratégia eficaz para obter insights valiosos sobre suas perspectivas e motivações para sair da empresa. No entanto, é importante projetar cuidadosamente esse processo para garantir que ele seja ético, confidencial e anônimo.\n",
        "   -Lembrar sempre que a confidencialidade e o anonimato são fundamentais para obter informações honestas e valiosas. Além disso, a empresa deve demonstrar um compromisso genuíno em utilizar os insights para melhorar a experiência dos funcionários e a cultura organizacional."
      ],
      "metadata": {
        "id": "wFWtNcn-iDzS"
      }
    },
    {
      "cell_type": "markdown",
      "source": [
        "####>>>> Terceira Análise"
      ],
      "metadata": {
        "id": "cNTXyN8Vljue"
      }
    },
    {
      "cell_type": "markdown",
      "source": [
        ">- Nessa fase vamos entender melhor os dados de cada um dos relatórios;"
      ],
      "metadata": {
        "id": "f33FG_5prfq3"
      }
    },
    {
      "cell_type": "markdown",
      "source": [
        "#####>>>>>- Relatorio de Pesquisa de Saída"
      ],
      "metadata": {
        "id": "UZSpa_77sC9f"
      }
    },
    {
      "cell_type": "markdown",
      "source": [
        "\n",
        "\n",
        ">-![Imgur](https://i.imgur.com/CTEc8ls.png)"
      ],
      "metadata": {
        "id": "k8HvjhoClrX-"
      }
    },
    {
      "cell_type": "markdown",
      "source": [
        ">- O gráfico nos mostra o número de frequência absoluta de cada razão nas barras azuis e a capacidade de impacto de cada uma delas na cor vermelha;\n",
        "> - Dispomos que a maior causa de demissão assinalada foi \"Progressão de Carreira\" com 171 registros seguido por \"Tipo de Trabalho\" com 78 registros;\n",
        ">- Também observamos que a razão que tem o maior grau de impacto é o \"Treinamento\" seguido por \"Conflito com outros\";\n",
        ">- Dessa forma constatamos que o motivo com maior numero de registros não possui o maior indice de impacto;\n",
        "\n",
        ">- Hipóteses e Insights:\n",
        "  - Uma possibilidade é que os funcionários possam perceber a importância de certas razões de saída de maneira diferente da empresa ou dos analistas. Por exemplo, embora a “Progressão de Carreira” seja a razão do maior número de registos, a empresa pode considerar que outros motivos, como “Treinamento” ou “Conflito com outros”, têm um impacto mais direto na satisfação e processos no trabalho.\n",
        "  - Outra hipótese é que motivos de saída mais comuns, como \"Progressão de Carreira\" e \"Tipo de Trabalho\", podem ser fatores que levam as pessoas a buscar novas oportunidades, mas não necessariamente os motivos que causem o maior impacto negativo na satisfação do funcionário. Podem ser problemas relacionados a \"Treinamento\" ou \"Conflito com outros\" que afetam mais profundamente a satisfação dos funcionários.\n",
        "  - Os funcionários podem ter expectativas específicas em relação a certos aspectos do trabalho, como treinamento e relacionamentos no local de trabalho. Se essas expectativas não foram atendidas, elas podem ficar insatisfeitas, mesmo que outros aspectos, como oportunidades de \"progressão de carreira\", estejam em conformidade com suas expectativas.\n",
        "\n",
        "\n",
        "\n",
        "\n",
        "\n",
        "\n",
        "\n",
        "\n",
        "\n",
        "\n",
        "  "
      ],
      "metadata": {
        "id": "M5kOLyYVnJQb"
      }
    },
    {
      "cell_type": "markdown",
      "source": [
        "#####>>>>> Relatório HRBP"
      ],
      "metadata": {
        "id": "WFah8EoSrtzv"
      }
    },
    {
      "cell_type": "markdown",
      "source": [
        ">-![Imgur](https://i.imgur.com/hCrpiZo.png)"
      ],
      "metadata": {
        "id": "nExFpC8Rr84A"
      }
    },
    {
      "cell_type": "markdown",
      "source": [
        ">- o gráfico nos mostra o número de frequência absoluta de cada razão nas barras azuis e a capacidade de impacto de cada uma delas na cor vermelha;\n",
        "> - Constatamos que a maior causa de demissão assinalada foi Progressão de Carreira com 137 registros seguido por Tipo de Trabalho com 128 registros;\n",
        ">- Também observamos que a razão que tem o maior grau de impacto é o Treinamento seguido por Conflito com outros;\n",
        ">- Dessa forma percebemos que o motivo com maior numero de registros não possui o maior indice de impacto;\n",
        ">- Hipóteses e Insights:\n",
        ">- Devido a similaridade dos gráficos temos as hipotese e insights similar ao anterior\n",
        "  - Uma possibilidade é que os funcionários possam perceber a importância de certas razões de saída de maneira diferente da empresa ou dos analistas. Por exemplo, embora a “Progressão de Carreira” seja a razão do maior número de registos, a empresa pode considerar que outros motivos, como “Treinamento” ou “Conflito com outros”, têm um impacto mais direto na satisfação e processos no trabalho.\n",
        "  - Outra hipótese é que motivos de saída mais comuns, como \"Progressão de Carreira\" e \"Tipo de Trabalho\", podem ser fatores que levam as pessoas a buscar novas oportunidades, mas não necessariamente os motivos que causem o maior impacto negativo na satisfação do funcionário. Podem ser problemas relacionados a \"Treinamento\" ou \"Conflito com outros\" que afetam mais profundamente a satisfação dos funcionários.\n",
        "  - Os funcionários podem ter expectativas específicas em relação a certos aspectos do trabalho, como treinamento e relacionamentos no local de trabalho. Se essas expectativas não foram atendidas, elas podem ficar insatisfeitas, mesmo que outros aspectos, como oportunidades de progressão de carreira, estejam em conformidade com suas expectativas.\n"
      ],
      "metadata": {
        "id": "lANy9FcfsqZW"
      }
    },
    {
      "cell_type": "markdown",
      "source": [
        "####>>>> Quarta Análise"
      ],
      "metadata": {
        "id": "RdbjX76itzHs"
      }
    },
    {
      "cell_type": "markdown",
      "source": [
        "> - Compreender o grupo crítico de razões de saída que estão associados a uma capacidade de impacto mais elevada é fundamental para direcionar ações corretivas e estratégias de retenção de talentos. Identificar e abordar essas razões prioritárias pode ajudar a empresa a melhorar a satisfação dos funcionários e reduzir a rotatividade."
      ],
      "metadata": {
        "id": "O0sck27Su9rL"
      }
    },
    {
      "cell_type": "markdown",
      "source": [
        "![Imgur](https://i.imgur.com/TYiyDGS.png)"
      ],
      "metadata": {
        "id": "kgW-spZTt_Kk"
      }
    },
    {
      "cell_type": "markdown",
      "source": [
        ">- Gráfico nos mostra de forma clusterizada, as razões de saída que se destacam como críticas e requerem atenção imediata;\n",
        ">- como podemos ver está agruapando a frequencia absoluta em três niveis assim como a capacidade de impacto;"
      ],
      "metadata": {
        "id": "IhE7A5wa3mGq"
      }
    },
    {
      "cell_type": "markdown",
      "source": [
        "#####>>>>> Detalhes I"
      ],
      "metadata": {
        "id": "xzX-fiyy3uqI"
      }
    },
    {
      "cell_type": "markdown",
      "source": [
        "\n",
        ">- Se filtrarmos pelo nível mais alto de frequência obteremos:\n",
        "\n",
        "![Imgur](https://i.imgur.com/ZbtI5IR.png)"
      ],
      "metadata": {
        "id": "Uij893acxZR5"
      }
    },
    {
      "cell_type": "markdown",
      "source": [
        "> - Observamos que ambos relatorios o nível mais alto de frequência é composto por \"progressao de carreira\" e \"tipo de trabalho\":\n",
        ">- Ainda percebemos que o nível de impacto dessas razões é médio\n",
        "\n",
        ">- Hipótese e insights:\n",
        "   -  Embora essas razões tenham o maior número de registros, o fato de serem complexas com um impacto médio indica que é necessário realizar uma avaliação mais detalhada para entender que elas têm um impacto moderado. Isso pode envolver entrevistas com funcionários para obter mais informações sobre suas experiências e expectativas relacionadas a esses motivos.\n",
        "   - Com base nesses resultados, a empresa pode optar por uma abordagem mais proativa em relação a esses motivos, mesmo que seu impacto seja médio. Isso pode envolver a implementação de programas de desenvolvimento de carreira ou avaliações de satisfação dos funcionários para entender suas expectativas em relação ao tipo de trabalho que deseja realizar."
      ],
      "metadata": {
        "id": "5tcORcyA09P-"
      }
    },
    {
      "cell_type": "markdown",
      "source": [
        "#####>>>>> Detalhes II"
      ],
      "metadata": {
        "id": "reBvSijZ4J7x"
      }
    },
    {
      "cell_type": "markdown",
      "source": [
        ">- filtrarmos pelo nível de frequência medio e  obtivemos\n",
        ">-![Imgur](https://i.imgur.com/ECLzOzT.png)"
      ],
      "metadata": {
        "id": "L9BdaXXD1lVE"
      }
    },
    {
      "cell_type": "markdown",
      "source": [
        ">- Nesse grupo de nível de frequência médio, obtivemos 2 razões em ambos relatórios, \"realocação\" e \"falta de reconhecimento\";\n",
        ">- Observamos que \"falta de reconhecimento\" possui um nível alto de impacto e \"realocação\" nível baixo.\n",
        "\n",
        ">- Hipóteses e Insights:\n",
        "   - A situação em que a “Falta de Reconhecimento” apresenta um nível médio de frequência, mas um alto nível de impacto merece uma atenção especial. Isso indica que, embora a falta de reconhecimento não seja a razão mais comum para a saída dos funcionários, ela tem um impacto substancial na satisfação e na retenção dos colaboradores que a experimentaram;\n",
        "   - O alto nível de impacto da \"Falta de Reconhecimento\" sugere que este é um problema significativo para os funcionários que o enfrentam. A falta de reconhecimento pode afetar a motivação, o engajamento e o bem-estar dos colaboradores.\n",
        "   - Dado o alto impacto, a empresa deve considerar a implementação de medidas concretas para melhorar o reconhecimento e a valorização dos funcionários. Isso pode envolver programas de reconhecimento, feedback construtivo e oportunidades para os funcionários brilharem em seus papéis.\n",
        "   - É muito importante que a empresa reconheça a gravidade do problema da \"Falta de Reconhecimento\" e tome medidas para abordá-lo, dada a alta relevância desse fator na satisfação e na retenção dos colaboradores. A implementação de um canal de ética que permite uma pesquisa anônima pode ser uma maneira eficaz de coletar feedback adicional e garantir que os funcionários se sintam confortáveis ​​ao compartilhar suas preocupações."
      ],
      "metadata": {
        "id": "tfqHzxk52SHD"
      }
    },
    {
      "cell_type": "markdown",
      "source": [
        "#####>>>>> Detalhes III"
      ],
      "metadata": {
        "id": "93Wpyupc4SqX"
      }
    },
    {
      "cell_type": "markdown",
      "source": [
        ">- Ao filtrarmos pelo nível mais baixo de frequência  obteremos:\n",
        "\n",
        ">-![Imgur](https://i.imgur.com/doAQwsH.png)"
      ],
      "metadata": {
        "id": "5FhH3B9E4Y8n"
      }
    },
    {
      "cell_type": "markdown",
      "source": [
        ">- Essa vizualização nâo nos trouxe nada muito significativo, pois todos os motivos estão com nível baixo em ambos indicadores.\n",
        ">- Hipóteses e Insights:\n",
        "   -  Embora os motivos possam ter sido classificados como \"baixos\" em termos de frequência e impacto, pode ser útil realizar uma análise mais aprofundada. Isso pode incluir segmentação de dados por departamento, carga ou tempo de serviço para identificar grupos específicos de funcionários mais afetados."
      ],
      "metadata": {
        "id": "1AdKDcQx5Acg"
      }
    },
    {
      "cell_type": "markdown",
      "source": [
        "###<font color = blue> >>> Conclusão"
      ],
      "metadata": {
        "id": "vwcHGaON_jIK"
      }
    },
    {
      "cell_type": "markdown",
      "source": [
        "\n",
        "> Diante da análise dos tópicos apresentados e das informações disponíveis nos relatórios sobre a saída de funcionários, algumas conclusões gerais podem ser feitas:\n",
        "\n",
        "> A análise destacou a diferença entre a frequência absoluta das razões de saída e sua capacidade de impacto na satisfação dos funcionários. Nem sempre os motivos mais comuns são os que causam o maior impacto negativo.\n",
        "\n",
        "> Identificar e priorizar as razões de saída com base em seu impacto é fundamental para orientar ações corretivas e estratégias de retenção de talentos. Razões com alto impacto, mesmo que menos frequentes, merecem atenção especial.\n",
        "\n",
        "> Compreender como os funcionários percebem essas razões é essencial. A percepção dos funcionários pode diferir das métricas quantitativas e deve ser investigada por meio de feedback direto.\n",
        "\n",
        ">  A empresa deve adotar uma abordagem proativa para abordar as razões de saída críticas e melhorar a satisfação dos funcionários. Isso envolve desenvolver planos de ação, promover uma cultura de reconhecimento e valorização, além de monitorar continuamente os resultados.\n",
        "\n",
        "> Com base nessas considerações gerais, tanto um canal de ética anônimo quanto um canal de denúncias podem ser úteis para ajudar a empresa a abordar as razões de saída críticas e melhorar a satisfação dos funcionários.\n",
        "\n",
        "> - O canal de ética anônimo é importante para permitir que os funcionários expressem suas preocupações, incluindo questões relacionadas às razões de saída, de forma confidencial e sem medo de retaliações.\n",
        "Os colaboradores podem compartilhar percepções sobre como as razões de saída afetam sua satisfação e bem-estar no trabalho, fornecendo insights qualitativos importantes.\n",
        "Os dados coletados podem ser usados ​​para entender melhor a percepção dos funcionários sobre as questões identificadas nos relatórios e ajudar a orientar as ações corretivas.\n",
        "\n",
        ">- O canal de denúncias pode ser usado para relatar casos de má conduta que podem estar relacionados à desligamentos de funcionarios.\n",
        "Além de fornecer uma via para denunciar problemas graves, o canal de denúncias pode ajudar a empresa a identificar áreas específicas onde as melhorias são possíveis.\n",
        "As denúncias recebidas por meio deste canal podem revelar casos de má gestão, discriminação ou outros problemas que são prejudiciais para as razões de saída com alto impacto.\n",
        "Ambos os canais podem coexistir para atender a diferentes necessidades. O canal de ética anônimo é mais amplo e aberto a uma variedade de preocupações, incluindo questões relacionadas à cultura e satisfação no trabalho. Por outro lado, o canal de denúncias é mais focado em denunciar comportamentos inadequados. Ambos os canais podem ser valiosos para obter insights, feedback e relatos que podem ser usados ​​para orientar ações de melhoria e retenção de talentos. No entanto, é importante que ambos os canais sejam gerenciados com transparência, confidencialidade e ética para garantir que os colaboradores sintam a vontade para utilizá-los.\n",
        "\n"
      ],
      "metadata": {
        "id": "jvXFYOtd-JNa"
      }
    }
  ]
}